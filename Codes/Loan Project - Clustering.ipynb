{
 "cells": [
  {
   "cell_type": "markdown",
   "id": "b3e5417a",
   "metadata": {},
   "source": [
    "# Loan Project - Clustering\n",
    "***"
   ]
  },
  {
   "cell_type": "markdown",
   "id": "34015047",
   "metadata": {},
   "source": [
    "**Importing the required libraries & packages**"
   ]
  },
  {
   "cell_type": "code",
   "execution_count": 1,
   "id": "871bfcad",
   "metadata": {},
   "outputs": [],
   "source": [
    "import pandas as pd\n",
    "import matplotlib.pyplot as plt\n",
    "%matplotlib inline\n",
    "import numpy as np\n",
    "import pyodbc\n",
    "import os\n",
    "from sklearn.preprocessing import StandardScaler\n",
    "from sklearn.cluster import KMeans\n",
    "from scipy.cluster.hierarchy import dendrogram, linkage\n",
    "from sklearn.cluster import AgglomerativeClustering\n",
    "import pickle\n",
    "import warnings\n",
    "warnings.filterwarnings('ignore')"
   ]
  },
  {
   "cell_type": "markdown",
   "id": "01df1187",
   "metadata": {},
   "source": [
    "**Changing The Default Working Directory Path**"
   ]
  },
  {
   "cell_type": "code",
   "execution_count": 2,
   "id": "d1161efb",
   "metadata": {},
   "outputs": [],
   "source": [
    "os.chdir('C:\\\\Users\\\\Shridhar\\\\Desktop\\\\Loan Project - Clustering')"
   ]
  },
  {
   "cell_type": "markdown",
   "id": "cb74fae9",
   "metadata": {},
   "source": [
    "## Data Reading:"
   ]
  },
  {
   "cell_type": "markdown",
   "id": "58e09627",
   "metadata": {},
   "source": [
    "**Processed the input data using Structured Query Language _(SQL)_ and done some cleaning, with the help of <span style = 'color : red'> pyodbc </span> package connecting Jupyter Notebook with SQL Server in the following 3 cells.**"
   ]
  },
  {
   "cell_type": "code",
   "execution_count": 3,
   "id": "b68f74ea",
   "metadata": {},
   "outputs": [],
   "source": [
    "server = 'SHRIDHAR\\SQLEXPRESS'\n",
    "db = 'LoanProject'"
   ]
  },
  {
   "cell_type": "code",
   "execution_count": 4,
   "id": "e10fd6b5",
   "metadata": {},
   "outputs": [],
   "source": [
    "conn = pyodbc.connect('DRIVER={SQL Server};SERVER='+server+';DATABASE='+db+';UID=Shri; PWD=12345678;Trusted connection=YES')"
   ]
  },
  {
   "cell_type": "code",
   "execution_count": 5,
   "id": "566cb3cf",
   "metadata": {},
   "outputs": [],
   "source": [
    "sql = 'select * from acc_ord_card_disp_client_dist aocdcd join loan_trans lt on lt.account_id= aocdcd.disposition_account_id'"
   ]
  },
  {
   "cell_type": "markdown",
   "id": "b6bdc82c",
   "metadata": {},
   "source": [
    "**Reading the SQL File using Pandas Command**"
   ]
  },
  {
   "cell_type": "code",
   "execution_count": 6,
   "id": "a278b97c",
   "metadata": {},
   "outputs": [],
   "source": [
    "df = pd.read_sql(sql,conn)"
   ]
  },
  {
   "cell_type": "markdown",
   "id": "1e277599",
   "metadata": {},
   "source": [
    "**Exporting the Data after processing in SQL, the final data is converted to Comma Seperated Values _(CSV)_ File**"
   ]
  },
  {
   "cell_type": "code",
   "execution_count": 7,
   "id": "1461c15c",
   "metadata": {},
   "outputs": [],
   "source": [
    "df.to_csv('Loan Final Data.csv',index = False)"
   ]
  },
  {
   "cell_type": "markdown",
   "id": "007de6ea",
   "metadata": {},
   "source": [
    "## Exploratory Data Analysis:"
   ]
  },
  {
   "cell_type": "markdown",
   "id": "f2fff5c5",
   "metadata": {},
   "source": [
    "**Checking the Null values of all the columns in the dataset.**"
   ]
  },
  {
   "cell_type": "code",
   "execution_count": 8,
   "id": "4b017799",
   "metadata": {},
   "outputs": [
    {
     "data": {
      "text/plain": [
       "card_id                     0\n",
       "disp_id                     0\n",
       "type                        0\n",
       "issued                      0\n",
       "disposition_account_id      0\n",
       "disposition_client_id       0\n",
       "disposition_type            0\n",
       "client_id                   0\n",
       "birth_number                0\n",
       "district_id                 0\n",
       "A1                          0\n",
       "A2                          0\n",
       "A3                          0\n",
       "A4                          0\n",
       "A5                          0\n",
       "A6                          0\n",
       "A7                          0\n",
       "A8                          0\n",
       "A9                          0\n",
       "A10                         0\n",
       "A11                         0\n",
       "A12                         0\n",
       "A13                         0\n",
       "A14                         0\n",
       "A15                         0\n",
       "A16                         0\n",
       "order_id                    0\n",
       "bank_to                     0\n",
       "account_to                  0\n",
       "amount                      0\n",
       "k_symbol                    0\n",
       "account_date                0\n",
       "account_district_id         0\n",
       "account_frequency           0\n",
       "trans_id                    0\n",
       "account_id                  0\n",
       "date                        0\n",
       "type                        0\n",
       "operation                 157\n",
       "amount                      0\n",
       "balance                     0\n",
       "k_symbol                  602\n",
       "bank                      714\n",
       "account                   663\n",
       "loan_id                     0\n",
       "loan_date                   0\n",
       "loan_amount                 0\n",
       "loan_duration               0\n",
       "loan_payments               0\n",
       "loan_status                 0\n",
       "dtype: int64"
      ]
     },
     "execution_count": 8,
     "metadata": {},
     "output_type": "execute_result"
    }
   ],
   "source": [
    "df.isna().sum()"
   ]
  },
  {
   "cell_type": "markdown",
   "id": "721bfa34",
   "metadata": {},
   "source": [
    "**Getting to describe the numerical columns of the dataset**"
   ]
  },
  {
   "cell_type": "code",
   "execution_count": 9,
   "id": "96cdf834",
   "metadata": {},
   "outputs": [
    {
     "data": {
      "text/html": [
       "<div>\n",
       "<style scoped>\n",
       "    .dataframe tbody tr th:only-of-type {\n",
       "        vertical-align: middle;\n",
       "    }\n",
       "\n",
       "    .dataframe tbody tr th {\n",
       "        vertical-align: top;\n",
       "    }\n",
       "\n",
       "    .dataframe thead th {\n",
       "        text-align: right;\n",
       "    }\n",
       "</style>\n",
       "<table border=\"1\" class=\"dataframe\">\n",
       "  <thead>\n",
       "    <tr style=\"text-align: right;\">\n",
       "      <th></th>\n",
       "      <th>card_id</th>\n",
       "      <th>disp_id</th>\n",
       "      <th>disposition_account_id</th>\n",
       "      <th>disposition_client_id</th>\n",
       "      <th>client_id</th>\n",
       "      <th>birth_number</th>\n",
       "      <th>district_id</th>\n",
       "      <th>A1</th>\n",
       "      <th>A4</th>\n",
       "      <th>A5</th>\n",
       "      <th>...</th>\n",
       "      <th>account_district_id</th>\n",
       "      <th>trans_id</th>\n",
       "      <th>account_id</th>\n",
       "      <th>amount</th>\n",
       "      <th>balance</th>\n",
       "      <th>account</th>\n",
       "      <th>loan_id</th>\n",
       "      <th>loan_amount</th>\n",
       "      <th>loan_duration</th>\n",
       "      <th>loan_payments</th>\n",
       "    </tr>\n",
       "  </thead>\n",
       "  <tbody>\n",
       "    <tr>\n",
       "      <th>count</th>\n",
       "      <td>868.000000</td>\n",
       "      <td>868.000000</td>\n",
       "      <td>868.000000</td>\n",
       "      <td>868.000000</td>\n",
       "      <td>868.000000</td>\n",
       "      <td>868.000000</td>\n",
       "      <td>868.000000</td>\n",
       "      <td>868.000000</td>\n",
       "      <td>8.680000e+02</td>\n",
       "      <td>868.000000</td>\n",
       "      <td>...</td>\n",
       "      <td>868.000000</td>\n",
       "      <td>8.680000e+02</td>\n",
       "      <td>868.000000</td>\n",
       "      <td>868.000000</td>\n",
       "      <td>868.000000</td>\n",
       "      <td>2.050000e+02</td>\n",
       "      <td>868.000000</td>\n",
       "      <td>868.000000</td>\n",
       "      <td>868.000000</td>\n",
       "      <td>868.000000</td>\n",
       "    </tr>\n",
       "    <tr>\n",
       "      <th>mean</th>\n",
       "      <td>907.690092</td>\n",
       "      <td>8139.987327</td>\n",
       "      <td>6767.154378</td>\n",
       "      <td>8265.955069</td>\n",
       "      <td>8265.955069</td>\n",
       "      <td>685696.934332</td>\n",
       "      <td>37.332949</td>\n",
       "      <td>37.332949</td>\n",
       "      <td>1.407953e+05</td>\n",
       "      <td>41.294931</td>\n",
       "      <td>...</td>\n",
       "      <td>39.427419</td>\n",
       "      <td>2.276811e+06</td>\n",
       "      <td>6767.154378</td>\n",
       "      <td>13533.202650</td>\n",
       "      <td>51020.558765</td>\n",
       "      <td>3.346704e+07</td>\n",
       "      <td>6374.570276</td>\n",
       "      <td>124083.428571</td>\n",
       "      <td>27.069124</td>\n",
       "      <td>4954.557604</td>\n",
       "    </tr>\n",
       "    <tr>\n",
       "      <th>std</th>\n",
       "      <td>238.683175</td>\n",
       "      <td>3244.507382</td>\n",
       "      <td>2715.120458</td>\n",
       "      <td>3376.937067</td>\n",
       "      <td>3376.937067</td>\n",
       "      <td>149850.689100</td>\n",
       "      <td>23.864496</td>\n",
       "      <td>23.864496</td>\n",
       "      <td>1.281183e+05</td>\n",
       "      <td>23.132398</td>\n",
       "      <td>...</td>\n",
       "      <td>25.833877</td>\n",
       "      <td>9.593156e+05</td>\n",
       "      <td>2715.120458</td>\n",
       "      <td>15346.995182</td>\n",
       "      <td>28746.846180</td>\n",
       "      <td>3.115044e+07</td>\n",
       "      <td>561.596458</td>\n",
       "      <td>74014.846356</td>\n",
       "      <td>16.620600</td>\n",
       "      <td>2019.525078</td>\n",
       "    </tr>\n",
       "    <tr>\n",
       "      <th>min</th>\n",
       "      <td>159.000000</td>\n",
       "      <td>946.000000</td>\n",
       "      <td>790.000000</td>\n",
       "      <td>946.000000</td>\n",
       "      <td>946.000000</td>\n",
       "      <td>351003.000000</td>\n",
       "      <td>1.000000</td>\n",
       "      <td>1.000000</td>\n",
       "      <td>5.131300e+04</td>\n",
       "      <td>0.000000</td>\n",
       "      <td>...</td>\n",
       "      <td>1.000000</td>\n",
       "      <td>2.320620e+05</td>\n",
       "      <td>790.000000</td>\n",
       "      <td>5.400000</td>\n",
       "      <td>200.000000</td>\n",
       "      <td>0.000000e+00</td>\n",
       "      <td>5126.000000</td>\n",
       "      <td>14628.000000</td>\n",
       "      <td>12.000000</td>\n",
       "      <td>1177.000000</td>\n",
       "    </tr>\n",
       "    <tr>\n",
       "      <th>25%</th>\n",
       "      <td>844.000000</td>\n",
       "      <td>6567.000000</td>\n",
       "      <td>5442.000000</td>\n",
       "      <td>6567.000000</td>\n",
       "      <td>6567.000000</td>\n",
       "      <td>570929.000000</td>\n",
       "      <td>14.000000</td>\n",
       "      <td>14.000000</td>\n",
       "      <td>8.651300e+04</td>\n",
       "      <td>21.000000</td>\n",
       "      <td>...</td>\n",
       "      <td>12.000000</td>\n",
       "      <td>1.602809e+06</td>\n",
       "      <td>5442.000000</td>\n",
       "      <td>306.224991</td>\n",
       "      <td>31045.900391</td>\n",
       "      <td>7.772154e+06</td>\n",
       "      <td>6112.000000</td>\n",
       "      <td>78939.000000</td>\n",
       "      <td>12.000000</td>\n",
       "      <td>3222.000000</td>\n",
       "    </tr>\n",
       "    <tr>\n",
       "      <th>50%</th>\n",
       "      <td>857.000000</td>\n",
       "      <td>6789.000000</td>\n",
       "      <td>5622.000000</td>\n",
       "      <td>6789.000000</td>\n",
       "      <td>6789.000000</td>\n",
       "      <td>780907.000000</td>\n",
       "      <td>32.000000</td>\n",
       "      <td>32.000000</td>\n",
       "      <td>1.050580e+05</td>\n",
       "      <td>34.000000</td>\n",
       "      <td>...</td>\n",
       "      <td>45.000000</td>\n",
       "      <td>1.852832e+06</td>\n",
       "      <td>5622.000000</td>\n",
       "      <td>7000.000000</td>\n",
       "      <td>47310.150391</td>\n",
       "      <td>2.417564e+07</td>\n",
       "      <td>6150.000000</td>\n",
       "      <td>105804.000000</td>\n",
       "      <td>24.000000</td>\n",
       "      <td>4579.000000</td>\n",
       "    </tr>\n",
       "    <tr>\n",
       "      <th>75%</th>\n",
       "      <td>1100.000000</td>\n",
       "      <td>11101.000000</td>\n",
       "      <td>9265.000000</td>\n",
       "      <td>11409.000000</td>\n",
       "      <td>11409.000000</td>\n",
       "      <td>790326.000000</td>\n",
       "      <td>57.000000</td>\n",
       "      <td>57.000000</td>\n",
       "      <td>1.619540e+05</td>\n",
       "      <td>65.000000</td>\n",
       "      <td>...</td>\n",
       "      <td>62.000000</td>\n",
       "      <td>3.314625e+06</td>\n",
       "      <td>9265.000000</td>\n",
       "      <td>22933.750000</td>\n",
       "      <td>67505.726562</td>\n",
       "      <td>6.987126e+07</td>\n",
       "      <td>6888.000000</td>\n",
       "      <td>174744.000000</td>\n",
       "      <td>36.000000</td>\n",
       "      <td>6918.000000</td>\n",
       "    </tr>\n",
       "    <tr>\n",
       "      <th>max</th>\n",
       "      <td>1223.000000</td>\n",
       "      <td>13231.000000</td>\n",
       "      <td>11013.000000</td>\n",
       "      <td>13539.000000</td>\n",
       "      <td>13539.000000</td>\n",
       "      <td>805502.000000</td>\n",
       "      <td>74.000000</td>\n",
       "      <td>74.000000</td>\n",
       "      <td>1.204953e+06</td>\n",
       "      <td>98.000000</td>\n",
       "      <td>...</td>\n",
       "      <td>74.000000</td>\n",
       "      <td>3.675971e+06</td>\n",
       "      <td>11013.000000</td>\n",
       "      <td>63366.000000</td>\n",
       "      <td>143605.703125</td>\n",
       "      <td>9.867897e+07</td>\n",
       "      <td>7240.000000</td>\n",
       "      <td>331560.000000</td>\n",
       "      <td>60.000000</td>\n",
       "      <td>7281.000000</td>\n",
       "    </tr>\n",
       "  </tbody>\n",
       "</table>\n",
       "<p>8 rows × 34 columns</p>\n",
       "</div>"
      ],
      "text/plain": [
       "           card_id       disp_id  disposition_account_id  \\\n",
       "count   868.000000    868.000000              868.000000   \n",
       "mean    907.690092   8139.987327             6767.154378   \n",
       "std     238.683175   3244.507382             2715.120458   \n",
       "min     159.000000    946.000000              790.000000   \n",
       "25%     844.000000   6567.000000             5442.000000   \n",
       "50%     857.000000   6789.000000             5622.000000   \n",
       "75%    1100.000000  11101.000000             9265.000000   \n",
       "max    1223.000000  13231.000000            11013.000000   \n",
       "\n",
       "       disposition_client_id     client_id   birth_number  district_id  \\\n",
       "count             868.000000    868.000000     868.000000   868.000000   \n",
       "mean             8265.955069   8265.955069  685696.934332    37.332949   \n",
       "std              3376.937067   3376.937067  149850.689100    23.864496   \n",
       "min               946.000000    946.000000  351003.000000     1.000000   \n",
       "25%              6567.000000   6567.000000  570929.000000    14.000000   \n",
       "50%              6789.000000   6789.000000  780907.000000    32.000000   \n",
       "75%             11409.000000  11409.000000  790326.000000    57.000000   \n",
       "max             13539.000000  13539.000000  805502.000000    74.000000   \n",
       "\n",
       "               A1            A4          A5  ...  account_district_id  \\\n",
       "count  868.000000  8.680000e+02  868.000000  ...           868.000000   \n",
       "mean    37.332949  1.407953e+05   41.294931  ...            39.427419   \n",
       "std     23.864496  1.281183e+05   23.132398  ...            25.833877   \n",
       "min      1.000000  5.131300e+04    0.000000  ...             1.000000   \n",
       "25%     14.000000  8.651300e+04   21.000000  ...            12.000000   \n",
       "50%     32.000000  1.050580e+05   34.000000  ...            45.000000   \n",
       "75%     57.000000  1.619540e+05   65.000000  ...            62.000000   \n",
       "max     74.000000  1.204953e+06   98.000000  ...            74.000000   \n",
       "\n",
       "           trans_id    account_id        amount        balance       account  \\\n",
       "count  8.680000e+02    868.000000    868.000000     868.000000  2.050000e+02   \n",
       "mean   2.276811e+06   6767.154378  13533.202650   51020.558765  3.346704e+07   \n",
       "std    9.593156e+05   2715.120458  15346.995182   28746.846180  3.115044e+07   \n",
       "min    2.320620e+05    790.000000      5.400000     200.000000  0.000000e+00   \n",
       "25%    1.602809e+06   5442.000000    306.224991   31045.900391  7.772154e+06   \n",
       "50%    1.852832e+06   5622.000000   7000.000000   47310.150391  2.417564e+07   \n",
       "75%    3.314625e+06   9265.000000  22933.750000   67505.726562  6.987126e+07   \n",
       "max    3.675971e+06  11013.000000  63366.000000  143605.703125  9.867897e+07   \n",
       "\n",
       "           loan_id    loan_amount  loan_duration  loan_payments  \n",
       "count   868.000000     868.000000     868.000000     868.000000  \n",
       "mean   6374.570276  124083.428571      27.069124    4954.557604  \n",
       "std     561.596458   74014.846356      16.620600    2019.525078  \n",
       "min    5126.000000   14628.000000      12.000000    1177.000000  \n",
       "25%    6112.000000   78939.000000      12.000000    3222.000000  \n",
       "50%    6150.000000  105804.000000      24.000000    4579.000000  \n",
       "75%    6888.000000  174744.000000      36.000000    6918.000000  \n",
       "max    7240.000000  331560.000000      60.000000    7281.000000  \n",
       "\n",
       "[8 rows x 34 columns]"
      ]
     },
     "execution_count": 9,
     "metadata": {},
     "output_type": "execute_result"
    }
   ],
   "source": [
    "df.describe()"
   ]
  },
  {
   "cell_type": "markdown",
   "id": "850caac8",
   "metadata": {},
   "source": [
    "**Getting the information such as counts, datatypes of all the columns in the dataset**"
   ]
  },
  {
   "cell_type": "code",
   "execution_count": 10,
   "id": "560c68c3",
   "metadata": {},
   "outputs": [
    {
     "name": "stdout",
     "output_type": "stream",
     "text": [
      "<class 'pandas.core.frame.DataFrame'>\n",
      "RangeIndex: 868 entries, 0 to 867\n",
      "Data columns (total 50 columns):\n",
      " #   Column                  Non-Null Count  Dtype  \n",
      "---  ------                  --------------  -----  \n",
      " 0   card_id                 868 non-null    int64  \n",
      " 1   disp_id                 868 non-null    int64  \n",
      " 2   type                    868 non-null    object \n",
      " 3   issued                  868 non-null    object \n",
      " 4   disposition_account_id  868 non-null    int64  \n",
      " 5   disposition_client_id   868 non-null    int64  \n",
      " 6   disposition_type        868 non-null    object \n",
      " 7   client_id               868 non-null    int64  \n",
      " 8   birth_number            868 non-null    int64  \n",
      " 9   district_id             868 non-null    int64  \n",
      " 10  A1                      868 non-null    int64  \n",
      " 11  A2                      868 non-null    object \n",
      " 12  A3                      868 non-null    object \n",
      " 13  A4                      868 non-null    int64  \n",
      " 14  A5                      868 non-null    int64  \n",
      " 15  A6                      868 non-null    int64  \n",
      " 16  A7                      868 non-null    int64  \n",
      " 17  A8                      868 non-null    int64  \n",
      " 18  A9                      868 non-null    int64  \n",
      " 19  A10                     868 non-null    float64\n",
      " 20  A11                     868 non-null    int64  \n",
      " 21  A12                     868 non-null    float64\n",
      " 22  A13                     868 non-null    float64\n",
      " 23  A14                     868 non-null    int64  \n",
      " 24  A15                     868 non-null    int64  \n",
      " 25  A16                     868 non-null    int64  \n",
      " 26  order_id                868 non-null    int64  \n",
      " 27  bank_to                 868 non-null    object \n",
      " 28  account_to              868 non-null    int64  \n",
      " 29  amount                  868 non-null    float64\n",
      " 30  k_symbol                868 non-null    object \n",
      " 31  account_date            868 non-null    object \n",
      " 32  account_district_id     868 non-null    int64  \n",
      " 33  account_frequency       868 non-null    object \n",
      " 34  trans_id                868 non-null    int64  \n",
      " 35  account_id              868 non-null    int64  \n",
      " 36  date                    868 non-null    object \n",
      " 37  type                    868 non-null    object \n",
      " 38  operation               711 non-null    object \n",
      " 39  amount                  868 non-null    float64\n",
      " 40  balance                 868 non-null    float64\n",
      " 41  k_symbol                266 non-null    object \n",
      " 42  bank                    154 non-null    object \n",
      " 43  account                 205 non-null    float64\n",
      " 44  loan_id                 868 non-null    int64  \n",
      " 45  loan_date               868 non-null    object \n",
      " 46  loan_amount             868 non-null    int64  \n",
      " 47  loan_duration           868 non-null    int64  \n",
      " 48  loan_payments           868 non-null    float64\n",
      " 49  loan_status             868 non-null    object \n",
      "dtypes: float64(8), int64(26), object(16)\n",
      "memory usage: 339.2+ KB\n"
     ]
    }
   ],
   "source": [
    "df.info()"
   ]
  },
  {
   "cell_type": "markdown",
   "id": "87909d85",
   "metadata": {},
   "source": [
    "**Finding the shape of the dataset**"
   ]
  },
  {
   "cell_type": "code",
   "execution_count": 11,
   "id": "ed92ab71",
   "metadata": {
    "scrolled": true
   },
   "outputs": [
    {
     "data": {
      "text/plain": [
       "(868, 50)"
      ]
     },
     "execution_count": 11,
     "metadata": {},
     "output_type": "execute_result"
    }
   ],
   "source": [
    "df.shape"
   ]
  },
  {
   "cell_type": "markdown",
   "id": "36d5060c",
   "metadata": {},
   "source": [
    "**Since it has many columns, to extract the columns we need getting all the column names. So, that we can identify the necessary column**"
   ]
  },
  {
   "cell_type": "code",
   "execution_count": 12,
   "id": "3395391e",
   "metadata": {},
   "outputs": [
    {
     "data": {
      "text/plain": [
       "Index(['card_id', 'disp_id', 'type', 'issued', 'disposition_account_id',\n",
       "       'disposition_client_id', 'disposition_type', 'client_id',\n",
       "       'birth_number', 'district_id', 'A1', 'A2', 'A3', 'A4', 'A5', 'A6', 'A7',\n",
       "       'A8', 'A9', 'A10', 'A11', 'A12', 'A13', 'A14', 'A15', 'A16', 'order_id',\n",
       "       'bank_to', 'account_to', 'amount', 'k_symbol', 'account_date',\n",
       "       'account_district_id', 'account_frequency', 'trans_id', 'account_id',\n",
       "       'date', 'type', 'operation', 'amount', 'balance', 'k_symbol', 'bank',\n",
       "       'account', 'loan_id', 'loan_date', 'loan_amount', 'loan_duration',\n",
       "       'loan_payments', 'loan_status'],\n",
       "      dtype='object')"
      ]
     },
     "execution_count": 12,
     "metadata": {},
     "output_type": "execute_result"
    }
   ],
   "source": [
    "df.columns"
   ]
  },
  {
   "cell_type": "markdown",
   "id": "987c8ee1",
   "metadata": {},
   "source": [
    "**Assigning the independent variable with only two columns i.e., `loan_amount`, `balance` since it is Clustering Model there's no dependent variable.**"
   ]
  },
  {
   "cell_type": "code",
   "execution_count": 13,
   "id": "2bddfa74",
   "metadata": {},
   "outputs": [],
   "source": [
    "x = df[['loan_amount','balance']]"
   ]
  },
  {
   "cell_type": "markdown",
   "id": "a19635fb",
   "metadata": {},
   "source": [
    "## Data Preprocessing:"
   ]
  },
  {
   "cell_type": "markdown",
   "id": "9ec4f04d",
   "metadata": {},
   "source": [
    "**Standardizing the independent variable of the dataset**"
   ]
  },
  {
   "cell_type": "code",
   "execution_count": 14,
   "id": "b836c059",
   "metadata": {},
   "outputs": [],
   "source": [
    "sc = StandardScaler()\n",
    "sc_x = sc.fit_transform(x)"
   ]
  },
  {
   "cell_type": "markdown",
   "id": "923a329f",
   "metadata": {},
   "source": [
    "**Finding the WCSS (Within Cluster Sum of Square) values using KMeans Clustering Model**"
   ]
  },
  {
   "cell_type": "code",
   "execution_count": 15,
   "id": "8a767e3b",
   "metadata": {},
   "outputs": [
    {
     "data": {
      "text/plain": [
       "[1073.9739233731984,\n",
       " 674.3761919126624,\n",
       " 505.203520237413,\n",
       " 392.7910556924834,\n",
       " 303.497549916068,\n",
       " 265.91492069728133,\n",
       " 231.3333233347024,\n",
       " 200.11736383816972,\n",
       " 170.78818245368387,\n",
       " 147.35902546079458,\n",
       " 134.0922580549868,\n",
       " 117.58543807505731,\n",
       " 107.3393637939197]"
      ]
     },
     "metadata": {},
     "output_type": "display_data"
    }
   ],
   "source": [
    "wcss = []\n",
    "for i in range(2,15):\n",
    "    kmeans = KMeans(n_clusters = i, init = 'k-means++')\n",
    "    kmeans.fit(sc_x)\n",
    "    wcss.append(kmeans.inertia_)\n",
    "display(wcss)"
   ]
  },
  {
   "cell_type": "markdown",
   "id": "ecce549f",
   "metadata": {},
   "source": [
    "**Plotting the Line Graph with WCSS Values to get the exact ideal number of clusters to be created using KMeans Clustering Algorithm and saving the PNG file of the graph.**"
   ]
  },
  {
   "cell_type": "code",
   "execution_count": 16,
   "id": "475eac10",
   "metadata": {},
   "outputs": [
    {
     "data": {
      "image/png": "[encoded data removed]",
      "text/plain": [
       "<Figure size 2000x1500 with 1 Axes>"
      ]
     },
     "metadata": {},
     "output_type": "display_data"
    }
   ],
   "source": [
    "plt.rcParams['figure.figsize'] = 20,15\n",
    "plt.plot(range(2,15),wcss)\n",
    "plt.xlabel('No. of Clusters')\n",
    "plt.ylabel('WCSS')\n",
    "plt.title('Elbow Chart')\n",
    "plt.savefig('Elbow Chart.png')\n",
    "plt.show()"
   ]
  },
  {
   "cell_type": "markdown",
   "id": "7977128e",
   "metadata": {},
   "source": [
    "**Fitting the KMeans Clustering model with ideal number of clusters found from Elbow Method Graph and getting the dataset belonging to the Cluster.**"
   ]
  },
  {
   "cell_type": "code",
   "execution_count": 17,
   "id": "6f1fcbce",
   "metadata": {},
   "outputs": [],
   "source": [
    "kmeans = KMeans(n_clusters = 6, init = 'k-means++')\n",
    "kmeans = kmeans.fit(sc_x)\n",
    "y_kmeans = kmeans.labels_"
   ]
  },
  {
   "cell_type": "markdown",
   "id": "681e4e88",
   "metadata": {},
   "source": [
    "**Plotting the Scatter Plot Graph with the independent variable and the Cluster which it belongs and saving the PNG file.**"
   ]
  },
  {
   "cell_type": "code",
   "execution_count": 18,
   "id": "ab84899d",
   "metadata": {},
   "outputs": [
    {
     "data": {
      "image/png": "[encoded data removed]",
      "text/plain": [
       "<Figure size 2000x1500 with 1 Axes>"
      ]
     },
     "metadata": {},
     "output_type": "display_data"
    }
   ],
   "source": [
    "plt.scatter(sc_x[y_kmeans==0,0],sc_x[y_kmeans==0,1],s=100,c='r',label='Cluster 1')\n",
    "plt.scatter(sc_x[y_kmeans==1,0],sc_x[y_kmeans==1,1],s=100,c='b',label='Cluster 2')\n",
    "plt.scatter(sc_x[y_kmeans==2,0],sc_x[y_kmeans==2,1],s=100,c='g',label='Cluster 3')\n",
    "plt.scatter(sc_x[y_kmeans==3,0],sc_x[y_kmeans==3,1],s=100,c='c',label='Cluster 4')\n",
    "plt.scatter(sc_x[y_kmeans==4,0],sc_x[y_kmeans==4,1],s=100,c='m',label='Cluster 5')\n",
    "plt.scatter(sc_x[y_kmeans==5,0],sc_x[y_kmeans==5,1],s=100,c='k',label='Cluster 6')\n",
    "plt.title('KMeans Clustering Spread')\n",
    "plt.savefig('KMeans Clustering Spread.png')\n",
    "plt.legend()\n",
    "plt.show()"
   ]
  },
  {
   "cell_type": "markdown",
   "id": "e94925ca",
   "metadata": {},
   "source": [
    "**Merging the Cluster Number, adding the sepearte column for it, also getting the `account_id` column from the dataset with assigned independent variable and Adding new column names for the existing columns of the resultant dataset  such as `Account ID`, `Loan Amount`, `Balance`, `Cluster Number` . Displaying the resulting dataset**"
   ]
  },
  {
   "cell_type": "code",
   "execution_count": 19,
   "id": "87097604",
   "metadata": {},
   "outputs": [
    {
     "data": {
      "text/html": [
       "<div>\n",
       "<style scoped>\n",
       "    .dataframe tbody tr th:only-of-type {\n",
       "        vertical-align: middle;\n",
       "    }\n",
       "\n",
       "    .dataframe tbody tr th {\n",
       "        vertical-align: top;\n",
       "    }\n",
       "\n",
       "    .dataframe thead th {\n",
       "        text-align: right;\n",
       "    }\n",
       "</style>\n",
       "<table border=\"1\" class=\"dataframe\">\n",
       "  <thead>\n",
       "    <tr style=\"text-align: right;\">\n",
       "      <th></th>\n",
       "      <th>Account ID</th>\n",
       "      <th>Loan Amount</th>\n",
       "      <th>Balance</th>\n",
       "      <th>Cluster Number</th>\n",
       "    </tr>\n",
       "  </thead>\n",
       "  <tbody>\n",
       "    <tr>\n",
       "      <th>0</th>\n",
       "      <td>790</td>\n",
       "      <td>208128</td>\n",
       "      <td>30674.599609</td>\n",
       "      <td>2</td>\n",
       "    </tr>\n",
       "    <tr>\n",
       "      <th>1</th>\n",
       "      <td>790</td>\n",
       "      <td>208128</td>\n",
       "      <td>300.000000</td>\n",
       "      <td>2</td>\n",
       "    </tr>\n",
       "    <tr>\n",
       "      <th>2</th>\n",
       "      <td>790</td>\n",
       "      <td>208128</td>\n",
       "      <td>9900.000000</td>\n",
       "      <td>2</td>\n",
       "    </tr>\n",
       "    <tr>\n",
       "      <th>3</th>\n",
       "      <td>790</td>\n",
       "      <td>208128</td>\n",
       "      <td>42599.000000</td>\n",
       "      <td>2</td>\n",
       "    </tr>\n",
       "    <tr>\n",
       "      <th>4</th>\n",
       "      <td>790</td>\n",
       "      <td>208128</td>\n",
       "      <td>42658.199219</td>\n",
       "      <td>2</td>\n",
       "    </tr>\n",
       "    <tr>\n",
       "      <th>...</th>\n",
       "      <td>...</td>\n",
       "      <td>...</td>\n",
       "      <td>...</td>\n",
       "      <td>...</td>\n",
       "    </tr>\n",
       "    <tr>\n",
       "      <th>863</th>\n",
       "      <td>11013</td>\n",
       "      <td>274740</td>\n",
       "      <td>42844.000000</td>\n",
       "      <td>5</td>\n",
       "    </tr>\n",
       "    <tr>\n",
       "      <th>864</th>\n",
       "      <td>11013</td>\n",
       "      <td>274740</td>\n",
       "      <td>35844.000000</td>\n",
       "      <td>5</td>\n",
       "    </tr>\n",
       "    <tr>\n",
       "      <th>865</th>\n",
       "      <td>11013</td>\n",
       "      <td>274740</td>\n",
       "      <td>35921.101562</td>\n",
       "      <td>5</td>\n",
       "    </tr>\n",
       "    <tr>\n",
       "      <th>866</th>\n",
       "      <td>11013</td>\n",
       "      <td>274740</td>\n",
       "      <td>78165.101562</td>\n",
       "      <td>0</td>\n",
       "    </tr>\n",
       "    <tr>\n",
       "      <th>867</th>\n",
       "      <td>11013</td>\n",
       "      <td>274740</td>\n",
       "      <td>51865.101562</td>\n",
       "      <td>5</td>\n",
       "    </tr>\n",
       "  </tbody>\n",
       "</table>\n",
       "<p>868 rows × 4 columns</p>\n",
       "</div>"
      ],
      "text/plain": [
       "     Account ID  Loan Amount       Balance  Cluster Number\n",
       "0           790       208128  30674.599609               2\n",
       "1           790       208128    300.000000               2\n",
       "2           790       208128   9900.000000               2\n",
       "3           790       208128  42599.000000               2\n",
       "4           790       208128  42658.199219               2\n",
       "..          ...          ...           ...             ...\n",
       "863       11013       274740  42844.000000               5\n",
       "864       11013       274740  35844.000000               5\n",
       "865       11013       274740  35921.101562               5\n",
       "866       11013       274740  78165.101562               0\n",
       "867       11013       274740  51865.101562               5\n",
       "\n",
       "[868 rows x 4 columns]"
      ]
     },
     "metadata": {},
     "output_type": "display_data"
    }
   ],
   "source": [
    "result = pd.concat([df.iloc[:,4], pd.DataFrame(x),pd.DataFrame(y_kmeans)],axis = 1)\n",
    "result.columns = ['Account ID', 'Loan Amount', 'Balance', 'Cluster Number']\n",
    "display(result)"
   ]
  },
  {
   "cell_type": "markdown",
   "id": "17729d8e",
   "metadata": {},
   "source": [
    "**From the resulting dataset , found that the `Balance` column is Currency value but the readability is much worse since it has many figures after the decimal point. So, rounding off the `Balance` column and updating the rounded value to the `Balance` column in the independent variable and displaying the independent variable after updating.** "
   ]
  },
  {
   "cell_type": "code",
   "execution_count": 20,
   "id": "80513f05",
   "metadata": {},
   "outputs": [
    {
     "data": {
      "text/html": [
       "<div>\n",
       "<style scoped>\n",
       "    .dataframe tbody tr th:only-of-type {\n",
       "        vertical-align: middle;\n",
       "    }\n",
       "\n",
       "    .dataframe tbody tr th {\n",
       "        vertical-align: top;\n",
       "    }\n",
       "\n",
       "    .dataframe thead th {\n",
       "        text-align: right;\n",
       "    }\n",
       "</style>\n",
       "<table border=\"1\" class=\"dataframe\">\n",
       "  <thead>\n",
       "    <tr style=\"text-align: right;\">\n",
       "      <th></th>\n",
       "      <th>loan_amount</th>\n",
       "      <th>balance</th>\n",
       "    </tr>\n",
       "  </thead>\n",
       "  <tbody>\n",
       "    <tr>\n",
       "      <th>0</th>\n",
       "      <td>208128</td>\n",
       "      <td>30674.6</td>\n",
       "    </tr>\n",
       "    <tr>\n",
       "      <th>1</th>\n",
       "      <td>208128</td>\n",
       "      <td>300.0</td>\n",
       "    </tr>\n",
       "    <tr>\n",
       "      <th>2</th>\n",
       "      <td>208128</td>\n",
       "      <td>9900.0</td>\n",
       "    </tr>\n",
       "    <tr>\n",
       "      <th>3</th>\n",
       "      <td>208128</td>\n",
       "      <td>42599.0</td>\n",
       "    </tr>\n",
       "    <tr>\n",
       "      <th>4</th>\n",
       "      <td>208128</td>\n",
       "      <td>42658.2</td>\n",
       "    </tr>\n",
       "    <tr>\n",
       "      <th>...</th>\n",
       "      <td>...</td>\n",
       "      <td>...</td>\n",
       "    </tr>\n",
       "    <tr>\n",
       "      <th>863</th>\n",
       "      <td>274740</td>\n",
       "      <td>42844.0</td>\n",
       "    </tr>\n",
       "    <tr>\n",
       "      <th>864</th>\n",
       "      <td>274740</td>\n",
       "      <td>35844.0</td>\n",
       "    </tr>\n",
       "    <tr>\n",
       "      <th>865</th>\n",
       "      <td>274740</td>\n",
       "      <td>35921.1</td>\n",
       "    </tr>\n",
       "    <tr>\n",
       "      <th>866</th>\n",
       "      <td>274740</td>\n",
       "      <td>78165.1</td>\n",
       "    </tr>\n",
       "    <tr>\n",
       "      <th>867</th>\n",
       "      <td>274740</td>\n",
       "      <td>51865.1</td>\n",
       "    </tr>\n",
       "  </tbody>\n",
       "</table>\n",
       "<p>868 rows × 2 columns</p>\n",
       "</div>"
      ],
      "text/plain": [
       "     loan_amount  balance\n",
       "0         208128  30674.6\n",
       "1         208128    300.0\n",
       "2         208128   9900.0\n",
       "3         208128  42599.0\n",
       "4         208128  42658.2\n",
       "..           ...      ...\n",
       "863       274740  42844.0\n",
       "864       274740  35844.0\n",
       "865       274740  35921.1\n",
       "866       274740  78165.1\n",
       "867       274740  51865.1\n",
       "\n",
       "[868 rows x 2 columns]"
      ]
     },
     "metadata": {},
     "output_type": "display_data"
    }
   ],
   "source": [
    "rounded_balance = round(x['balance'],2)\n",
    "x.update({'balance': rounded_balance})\n",
    "display(x)"
   ]
  },
  {
   "cell_type": "markdown",
   "id": "46684992",
   "metadata": {},
   "source": [
    "**Now again merging the columns just as like before, with updated column names as `Account ID`, `Loan Amount ($)`, `Balance ($)`, `Cluster Number` since we updated the independent variable the readability of all the columns is pretty good**"
   ]
  },
  {
   "cell_type": "code",
   "execution_count": 21,
   "id": "1003e998",
   "metadata": {},
   "outputs": [
    {
     "data": {
      "text/html": [
       "<div>\n",
       "<style scoped>\n",
       "    .dataframe tbody tr th:only-of-type {\n",
       "        vertical-align: middle;\n",
       "    }\n",
       "\n",
       "    .dataframe tbody tr th {\n",
       "        vertical-align: top;\n",
       "    }\n",
       "\n",
       "    .dataframe thead th {\n",
       "        text-align: right;\n",
       "    }\n",
       "</style>\n",
       "<table border=\"1\" class=\"dataframe\">\n",
       "  <thead>\n",
       "    <tr style=\"text-align: right;\">\n",
       "      <th></th>\n",
       "      <th>Account ID</th>\n",
       "      <th>Loan Amount ($)</th>\n",
       "      <th>Balance ($)</th>\n",
       "      <th>Cluster Number</th>\n",
       "    </tr>\n",
       "  </thead>\n",
       "  <tbody>\n",
       "    <tr>\n",
       "      <th>0</th>\n",
       "      <td>790</td>\n",
       "      <td>208128</td>\n",
       "      <td>30674.6</td>\n",
       "      <td>2</td>\n",
       "    </tr>\n",
       "    <tr>\n",
       "      <th>1</th>\n",
       "      <td>790</td>\n",
       "      <td>208128</td>\n",
       "      <td>300.0</td>\n",
       "      <td>2</td>\n",
       "    </tr>\n",
       "    <tr>\n",
       "      <th>2</th>\n",
       "      <td>790</td>\n",
       "      <td>208128</td>\n",
       "      <td>9900.0</td>\n",
       "      <td>2</td>\n",
       "    </tr>\n",
       "    <tr>\n",
       "      <th>3</th>\n",
       "      <td>790</td>\n",
       "      <td>208128</td>\n",
       "      <td>42599.0</td>\n",
       "      <td>2</td>\n",
       "    </tr>\n",
       "    <tr>\n",
       "      <th>4</th>\n",
       "      <td>790</td>\n",
       "      <td>208128</td>\n",
       "      <td>42658.2</td>\n",
       "      <td>2</td>\n",
       "    </tr>\n",
       "    <tr>\n",
       "      <th>...</th>\n",
       "      <td>...</td>\n",
       "      <td>...</td>\n",
       "      <td>...</td>\n",
       "      <td>...</td>\n",
       "    </tr>\n",
       "    <tr>\n",
       "      <th>863</th>\n",
       "      <td>11013</td>\n",
       "      <td>274740</td>\n",
       "      <td>42844.0</td>\n",
       "      <td>5</td>\n",
       "    </tr>\n",
       "    <tr>\n",
       "      <th>864</th>\n",
       "      <td>11013</td>\n",
       "      <td>274740</td>\n",
       "      <td>35844.0</td>\n",
       "      <td>5</td>\n",
       "    </tr>\n",
       "    <tr>\n",
       "      <th>865</th>\n",
       "      <td>11013</td>\n",
       "      <td>274740</td>\n",
       "      <td>35921.1</td>\n",
       "      <td>5</td>\n",
       "    </tr>\n",
       "    <tr>\n",
       "      <th>866</th>\n",
       "      <td>11013</td>\n",
       "      <td>274740</td>\n",
       "      <td>78165.1</td>\n",
       "      <td>0</td>\n",
       "    </tr>\n",
       "    <tr>\n",
       "      <th>867</th>\n",
       "      <td>11013</td>\n",
       "      <td>274740</td>\n",
       "      <td>51865.1</td>\n",
       "      <td>5</td>\n",
       "    </tr>\n",
       "  </tbody>\n",
       "</table>\n",
       "<p>868 rows × 4 columns</p>\n",
       "</div>"
      ],
      "text/plain": [
       "     Account ID  Loan Amount ($)  Balance ($)  Cluster Number\n",
       "0           790           208128      30674.6               2\n",
       "1           790           208128        300.0               2\n",
       "2           790           208128       9900.0               2\n",
       "3           790           208128      42599.0               2\n",
       "4           790           208128      42658.2               2\n",
       "..          ...              ...          ...             ...\n",
       "863       11013           274740      42844.0               5\n",
       "864       11013           274740      35844.0               5\n",
       "865       11013           274740      35921.1               5\n",
       "866       11013           274740      78165.1               0\n",
       "867       11013           274740      51865.1               5\n",
       "\n",
       "[868 rows x 4 columns]"
      ]
     },
     "metadata": {},
     "output_type": "display_data"
    }
   ],
   "source": [
    "result = pd.concat([df.iloc[:,4], pd.DataFrame(x),pd.DataFrame(y_kmeans)],axis = 1)\n",
    "result.columns = ['Account ID', 'Loan Amount ($)', 'Balance ($)', 'Cluster Number']\n",
    "display(result)"
   ]
  },
  {
   "cell_type": "markdown",
   "id": "20d07517",
   "metadata": {},
   "source": [
    "**Grouping by the Cluster Number with respect to `Loan Amount ($)` and `Balance ($)` to get the Minimum, Maximum values of Loan Amount, Balance and the number of values in each Clusters.**"
   ]
  },
  {
   "cell_type": "code",
   "execution_count": 22,
   "id": "bf9dd105",
   "metadata": {},
   "outputs": [
    {
     "data": {
      "text/html": [
       "<div>\n",
       "<style scoped>\n",
       "    .dataframe tbody tr th:only-of-type {\n",
       "        vertical-align: middle;\n",
       "    }\n",
       "\n",
       "    .dataframe tbody tr th {\n",
       "        vertical-align: top;\n",
       "    }\n",
       "\n",
       "    .dataframe thead tr th {\n",
       "        text-align: left;\n",
       "    }\n",
       "\n",
       "    .dataframe thead tr:last-of-type th {\n",
       "        text-align: right;\n",
       "    }\n",
       "</style>\n",
       "<table border=\"1\" class=\"dataframe\">\n",
       "  <thead>\n",
       "    <tr>\n",
       "      <th></th>\n",
       "      <th colspan=\"2\" halign=\"left\">Loan Amount ($)</th>\n",
       "      <th colspan=\"3\" halign=\"left\">Balance ($)</th>\n",
       "    </tr>\n",
       "    <tr>\n",
       "      <th></th>\n",
       "      <th>amin</th>\n",
       "      <th>amax</th>\n",
       "      <th>amin</th>\n",
       "      <th>amax</th>\n",
       "      <th>size</th>\n",
       "    </tr>\n",
       "    <tr>\n",
       "      <th>Cluster Number</th>\n",
       "      <th></th>\n",
       "      <th></th>\n",
       "      <th></th>\n",
       "      <th></th>\n",
       "      <th></th>\n",
       "    </tr>\n",
       "  </thead>\n",
       "  <tbody>\n",
       "    <tr>\n",
       "      <th>0</th>\n",
       "      <td>167100</td>\n",
       "      <td>274740</td>\n",
       "      <td>53973.8</td>\n",
       "      <td>122893.1</td>\n",
       "      <td>113</td>\n",
       "    </tr>\n",
       "    <tr>\n",
       "      <th>1</th>\n",
       "      <td>39576</td>\n",
       "      <td>117024</td>\n",
       "      <td>37262.7</td>\n",
       "      <td>74831.8</td>\n",
       "      <td>261</td>\n",
       "    </tr>\n",
       "    <tr>\n",
       "      <th>2</th>\n",
       "      <td>167100</td>\n",
       "      <td>224604</td>\n",
       "      <td>200.0</td>\n",
       "      <td>51819.7</td>\n",
       "      <td>142</td>\n",
       "    </tr>\n",
       "    <tr>\n",
       "      <th>3</th>\n",
       "      <td>14628</td>\n",
       "      <td>117024</td>\n",
       "      <td>200.0</td>\n",
       "      <td>38231.6</td>\n",
       "      <td>171</td>\n",
       "    </tr>\n",
       "    <tr>\n",
       "      <th>4</th>\n",
       "      <td>39576</td>\n",
       "      <td>167100</td>\n",
       "      <td>77560.3</td>\n",
       "      <td>143605.7</td>\n",
       "      <td>110</td>\n",
       "    </tr>\n",
       "    <tr>\n",
       "      <th>5</th>\n",
       "      <td>224604</td>\n",
       "      <td>331560</td>\n",
       "      <td>200.0</td>\n",
       "      <td>66391.9</td>\n",
       "      <td>71</td>\n",
       "    </tr>\n",
       "  </tbody>\n",
       "</table>\n",
       "</div>"
      ],
      "text/plain": [
       "               Loan Amount ($)         Balance ($)               \n",
       "                          amin    amax        amin      amax size\n",
       "Cluster Number                                                   \n",
       "0                       167100  274740     53973.8  122893.1  113\n",
       "1                        39576  117024     37262.7   74831.8  261\n",
       "2                       167100  224604       200.0   51819.7  142\n",
       "3                        14628  117024       200.0   38231.6  171\n",
       "4                        39576  167100     77560.3  143605.7  110\n",
       "5                       224604  331560       200.0   66391.9   71"
      ]
     },
     "execution_count": 22,
     "metadata": {},
     "output_type": "execute_result"
    }
   ],
   "source": [
    "result.groupby('Cluster Number').agg({'Loan Amount ($)':[np.min,np.max],'Balance ($)':[np.min,np.max,np.size]})"
   ]
  },
  {
   "cell_type": "markdown",
   "id": "7204f06b",
   "metadata": {},
   "source": [
    "**Loading the pickle file with K-Means Clustering model**"
   ]
  },
  {
   "cell_type": "code",
   "execution_count": 23,
   "id": "787cb8fb",
   "metadata": {},
   "outputs": [],
   "source": [
    "pickle.dump(kmeans,open('KMeans.pkl','wb'))"
   ]
  }
 ],
 "metadata": {
  "kernelspec": {
   "display_name": "Python 3 (ipykernel)",
   "language": "python",
   "name": "python3"
  },
  "language_info": {
   "codemirror_mode": {
    "name": "ipython",
    "version": 3
   },
   "file_extension": ".py",
   "mimetype": "text/x-python",
   "name": "python",
   "nbconvert_exporter": "python",
   "pygments_lexer": "ipython3",
   "version": "3.9.13"
  }
 },
 "nbformat": 4,
 "nbformat_minor": 5
}
